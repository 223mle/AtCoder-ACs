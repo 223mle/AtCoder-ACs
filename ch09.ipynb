{
  "cells": [
    {
      "cell_type": "markdown",
      "metadata": {
        "id": "view-in-github",
        "colab_type": "text"
      },
      "source": [
        "<a href=\"https://colab.research.google.com/github/tsutsumi-ozro/AtCoder-ACs/blob/main/ch09.ipynb\" target=\"_parent\"><img src=\"https://colab.research.google.com/assets/colab-badge.svg\" alt=\"Open In Colab\"/></a>"
      ]
    },
    {
      "cell_type": "markdown",
      "metadata": {
        "id": "h-eoRb5dsq6n"
      },
      "source": [
        "## 第9章: RNN, CNN\n"
      ]
    },
    {
      "cell_type": "markdown",
      "metadata": {
        "id": "AhjqVbRLsq6p"
      },
      "source": [
        "### 80. ID番号への変換\n",
        "問題51で構築した学習データ中の単語にユニークなID番号を付与したい．学習データ中で最も頻出する単語に1，2番目に頻出する単語に2，……といった方法で，学習データ中で2回以上出現する単語にID番号を付与せよ．そして，与えられた単語列に対して，ID番号の列を返す関数を実装せよ．ただし，出現頻度が2回未満の単語のID番号はすべて0とせよ"
      ]
    },
    {
      "cell_type": "code",
      "source": [
        "!wget https://archive.ics.uci.edu/ml/machine-learning-databases/00359/NewsAggregatorDataset.zip\n",
        "!unzip /content/NewsAggregatorDataset.zip"
      ],
      "metadata": {
        "colab": {
          "base_uri": "https://localhost:8080/"
        },
        "id": "LQR6mxqgvBOy",
        "outputId": "1ab3c1ad-625d-4e2a-a99e-91c8998b35d1"
      },
      "execution_count": 1,
      "outputs": [
        {
          "output_type": "stream",
          "name": "stdout",
          "text": [
            "--2023-01-06 04:29:13--  https://archive.ics.uci.edu/ml/machine-learning-databases/00359/NewsAggregatorDataset.zip\n",
            "Resolving archive.ics.uci.edu (archive.ics.uci.edu)... 128.195.10.252\n",
            "Connecting to archive.ics.uci.edu (archive.ics.uci.edu)|128.195.10.252|:443... connected.\n",
            "HTTP request sent, awaiting response... 200 OK\n",
            "Length: 29224203 (28M) [application/x-httpd-php]\n",
            "Saving to: ‘NewsAggregatorDataset.zip’\n",
            "\n",
            "NewsAggregatorDatas 100%[===================>]  27.87M  10.2MB/s    in 2.7s    \n",
            "\n",
            "2023-01-06 04:29:17 (10.2 MB/s) - ‘NewsAggregatorDataset.zip’ saved [29224203/29224203]\n",
            "\n",
            "Archive:  /content/NewsAggregatorDataset.zip\n",
            "  inflating: 2pageSessions.csv       \n",
            "   creating: __MACOSX/\n",
            "  inflating: __MACOSX/._2pageSessions.csv  \n",
            "  inflating: newsCorpora.csv         \n",
            "  inflating: __MACOSX/._newsCorpora.csv  \n",
            "  inflating: readme.txt              \n",
            "  inflating: __MACOSX/._readme.txt   \n"
          ]
        }
      ]
    },
    {
      "cell_type": "code",
      "source": [
        "#問題50のコードを(基本的に)そのまんま\n",
        "import pandas as pd\n",
        "from sklearn.model_selection import train_test_split\n",
        "\n",
        "columns = ['ID', 'TITLE', 'URL', 'PUBLISHER', 'CATEGORY', 'STORY', 'HOSTNAME', 'TIMESTAMP']\n",
        "df = pd.read_csv('/content/newsCorpora.csv', header=None, sep='\\t', names=columns)\n",
        "\n",
        "df = df[df['PUBLISHER'].isin(['Reuters', 'Huffington Post', 'Businessweek', 'Contactmusic.com', 'Daily Mail'])]\n",
        "# df.query(\"PUBLISHER in ['Reuters', 'Huffington Post', 'Businessweek', 'Contactmusic.com', 'Daily Mail']\")\n",
        "df = df.sample(frac=1, random_state=0)\n",
        "\n",
        "train, valid_test= train_test_split(df, test_size=0.2, stratify=df['CATEGORY'], random_state=0)\n",
        "valid, test = train_test_split(valid_test, test_size=0.5, stratify=valid_test['CATEGORY'], random_state=0)\n",
        "train.reset_index(drop=True, inplace=True)\n",
        "valid.reset_index(drop=True, inplace=True)\n",
        "test.reset_index(drop=True, inplace=True)"
      ],
      "metadata": {
        "id": "3l195NvYvVKd"
      },
      "execution_count": 2,
      "outputs": []
    },
    {
      "cell_type": "code",
      "source": [
        "from collections import defaultdict\n",
        "import string\n",
        "\n",
        "d = defaultdict(int)\n",
        "table = str.maketrans(string.punctuation, ' '*len(string.punctuation))\n",
        "for text in train['TITLE']:\n",
        "    for word in text.translate(table).split():\n",
        "        d[word] += 1\n",
        "d = sorted(d.items(), key=lambda x: x[1], reverse=True)\n",
        "\n",
        "word2id = {word: i+1 for i, (word, count) in enumerate(d) if count>1}\n",
        "print(f'2回以上出てくる単語数： {len(set(word2id.values()))}\\n')\n",
        "print('頻度上位10語')\n",
        "for key in list(word2id)[:10]:\n",
        "    print(f'{key}: {word2id[key]}')"
      ],
      "metadata": {
        "colab": {
          "base_uri": "https://localhost:8080/"
        },
        "id": "4_xBaYJgwGZD",
        "outputId": "138d9f7f-d8b8-452d-aa86-c11295fe4235"
      },
      "execution_count": 3,
      "outputs": [
        {
          "output_type": "stream",
          "name": "stdout",
          "text": [
            "2回以上出てくる単語数： 9440\n",
            "\n",
            "頻度上位10語\n",
            "to: 1\n",
            "s: 2\n",
            "in: 3\n",
            "UPDATE: 4\n",
            "on: 5\n",
            "US: 6\n",
            "as: 7\n",
            "of: 8\n",
            "for: 9\n",
            "The: 10\n"
          ]
        }
      ]
    },
    {
      "cell_type": "code",
      "source": [
        "def tokenizer(text, word2id=word2id, unk=0):\n",
        "    table = str.maketrans(string.punctuation, ' '*len(string.punctuation))\n",
        "    return [word2id.get(word, unk) for word in text.translate(table).split()]"
      ],
      "metadata": {
        "id": "dxgDcHHtxiLe"
      },
      "execution_count": 4,
      "outputs": []
    },
    {
      "cell_type": "code",
      "source": [
        "#test\n",
        "text = train.iloc[1, train.columns.get_loc('TITLE')]\n",
        "print(f'text: {text}')\n",
        "print(f'ID: {tokenizer(text)}')"
      ],
      "metadata": {
        "colab": {
          "base_uri": "https://localhost:8080/"
        },
        "id": "Vq3TzH08x-FU",
        "outputId": "b9374432-d220-4455-ef1c-3a8c509e179b"
      },
      "execution_count": 5,
      "outputs": [
        {
          "output_type": "stream",
          "name": "stdout",
          "text": [
            "text: GLOBAL MARKETS-Subdued Ifo takes M&A shine off European stocks\n",
            "ID: [97, 127, 0, 2107, 346, 611, 20, 6660, 80, 223, 184]\n"
          ]
        }
      ]
    },
    {
      "cell_type": "markdown",
      "metadata": {
        "id": "iynyFQpssq6q"
      },
      "source": [
        "### 81. RNNによる予測\n",
        "※問題文に数式が多く含まれているため、記述しない。<br>\n",
        "[問題文](https://nlp100.github.io/ja/ch09.html)"
      ]
    },
    {
      "cell_type": "markdown",
      "source": [
        "読んだdocumentを貼っていく<br>\n",
        "[torch.nn.Embeding](https://pytorch.org/docs/stable/generated/torch.nn.Embedding.html?highlight=embedding#torch.nn.Embedding)<br>\n",
        "[torch.zeros](https://pytorch.org/docs/stable/generated/torch.zeros.html?highlight=torch+zeros#torch.zeros)<br>\n",
        "[torch.nn.RNN](https://pytorch.org/docs/stable/generated/torch.nn.RNN.html?highlight=torch+nn+rnn#torch.nn.RNN)"
      ],
      "metadata": {
        "id": "S7fhoa4H0DNM"
      }
    },
    {
      "cell_type": "code",
      "source": [
        "import torch\n",
        "from torch import nn\n",
        "\n",
        "class RNN(nn.Module):\n",
        "    def __init__(self, vocab_size, emb_size, padding_idx, output_size, hidden_size):\n",
        "        super().__init__()\n",
        "        self.hidden_size = hidden_size\n",
        "        self.emb = nn.Embedding(vocab_size, emb_size, padding_idx=padding_idx)\n",
        "        # batch_first – If True, then the input and output tensors are provided as \n",
        "        # (batch, seq, feature) instead of (seq, batch, feature). \n",
        "        self.rnn = nn.RNN(emb_size, hidden_size, batch_first=True)\n",
        "        self.fc = nn.Linear(hidden_size, output_size)\n",
        "    \n",
        "    def forward(self, x):\n",
        "        # x= (batch_size, seq_len)?\n",
        "        self.batch_size = x.size()[0]\n",
        "        hidden = self.init_hidden(x.device)\n",
        "        emb = self.emb(x)\n",
        "        # emb = (batch_size, seq_len, emb_size)\n",
        "        out, hideen = self.rnn(emb, hidden)\n",
        "        # batch_first=Trueなら(seq_len, batch_size, hidden)じゃないの？\n",
        "        # out = (batch_size, seq_len, hidden_size)\n",
        "        out = self.fc(out[:, -1, :])\n",
        "        # out = (batch_size, output_size)\n",
        "        return out\n",
        "    \n",
        "    def init_hidden(self, device):\n",
        "        # (1, batch_size, hidden_size)\n",
        "        hidden = torch.zeros(1, self.batch_size, self.hidden_size, device=device)\n",
        "        return hidden"
      ],
      "metadata": {
        "id": "x3gOPsjEvB2G"
      },
      "execution_count": 6,
      "outputs": []
    },
    {
      "cell_type": "code",
      "source": [
        "from torch.utils.data import Dataset\n",
        "\n",
        "class CreateDataset(Dataset):\n",
        "    def __init__(self, X, y, tokenizer):\n",
        "        self.X = X\n",
        "        self.y = y\n",
        "        self.tokenizer = tokenizer\n",
        "\n",
        "    def __len__(self):\n",
        "        return len(self.y)\n",
        "    \n",
        "    def __getitem__(self, index):\n",
        "        text = self.X[index]\n",
        "        inputs = self.tokenizer(text)\n",
        "        return {\n",
        "            'inputs': torch.tensor(inputs, dtype=torch.int64), \n",
        "            'labels': torch.tensor(self.y[index], dtype=torch.int64)\n",
        "        }"
      ],
      "metadata": {
        "id": "4iaeZhaX6-51"
      },
      "execution_count": 7,
      "outputs": []
    },
    {
      "cell_type": "code",
      "source": [
        "category_dict = {'b': 0, 't': 1, 'e':2, 'm':3}\n",
        "y_train = train['CATEGORY'].map(lambda x: category_dict[x]).values\n",
        "y_valid = valid['CATEGORY'].map(lambda x: category_dict[x]).values\n",
        "y_test = test['CATEGORY'].map(lambda x: category_dict[x]).values\n",
        "\n",
        "dataset_train = CreateDataset(train['TITLE'], y_train, tokenizer)\n",
        "dataset_valid = CreateDataset(valid['TITLE'], y_valid, tokenizer)\n",
        "dataset_test = CreateDataset(test['TITLE'], y_test, tokenizer)"
      ],
      "metadata": {
        "id": "YAiv5sh972qY"
      },
      "execution_count": 8,
      "outputs": []
    },
    {
      "cell_type": "code",
      "source": [
        "VOCAB_SIZE = len(set(word2id.values())) + 1 #padding用の1\n",
        "EMB_SIZE = 300\n",
        "PADDING_IDX = len(set(word2id.values()))\n",
        "OUTPUT_SIZE = 4\n",
        "HIDDEN_SIZE = 50\n",
        "\n",
        "model = RNN(VOCAB_SIZE, EMB_SIZE, PADDING_IDX, OUTPUT_SIZE, HIDDEN_SIZE)\n",
        "\n",
        "for i in range(10):\n",
        "    X = dataset_train[i]['inputs']\n",
        "    print(torch.softmax(model(X.unsqueeze(0)), dim=-1))"
      ],
      "metadata": {
        "colab": {
          "base_uri": "https://localhost:8080/"
        },
        "id": "Kfe6yPJs8Dm-",
        "outputId": "f56f1d8a-94c9-4964-dac6-866bf05b2c02"
      },
      "execution_count": 9,
      "outputs": [
        {
          "output_type": "stream",
          "name": "stdout",
          "text": [
            "tensor([[0.2455, 0.1450, 0.3317, 0.2779]], grad_fn=<SoftmaxBackward0>)\n",
            "tensor([[0.3638, 0.1741, 0.1488, 0.3134]], grad_fn=<SoftmaxBackward0>)\n",
            "tensor([[0.1472, 0.2628, 0.3744, 0.2156]], grad_fn=<SoftmaxBackward0>)\n",
            "tensor([[0.1834, 0.1628, 0.2651, 0.3887]], grad_fn=<SoftmaxBackward0>)\n",
            "tensor([[0.2642, 0.1220, 0.3036, 0.3102]], grad_fn=<SoftmaxBackward0>)\n",
            "tensor([[0.1535, 0.2402, 0.3907, 0.2156]], grad_fn=<SoftmaxBackward0>)\n",
            "tensor([[0.1658, 0.3237, 0.3417, 0.1688]], grad_fn=<SoftmaxBackward0>)\n",
            "tensor([[0.2780, 0.2031, 0.2649, 0.2540]], grad_fn=<SoftmaxBackward0>)\n",
            "tensor([[0.3889, 0.1427, 0.1784, 0.2900]], grad_fn=<SoftmaxBackward0>)\n",
            "tensor([[0.2773, 0.2848, 0.1585, 0.2794]], grad_fn=<SoftmaxBackward0>)\n"
          ]
        }
      ]
    },
    {
      "cell_type": "markdown",
      "metadata": {
        "id": "XNdbfXZ9sq6q"
      },
      "source": [
        "### 82. 確率的勾配降下法による学習\n",
        "確率的勾配降下法（SGD: Stochastic Gradient Descent）を用いて，問題81で構築したモデルを学習せよ．訓練データ上の損失と正解率，評価データ上の損失と正解率を表示しながらモデルを学習し，適当な基準（例えば10エポックなど）で終了させよ．"
      ]
    },
    {
      "cell_type": "markdown",
      "source": [
        "https://qiita.com/tomp/items/f220bd6ffec006dabaa5"
      ],
      "metadata": {
        "id": "K2qRuaaUB157"
      }
    },
    {
      "cell_type": "code",
      "source": [
        "from torch.utils.data import DataLoader\n",
        "import time\n",
        "from torch import optim\n",
        "\n",
        "def calculate_loss_and_accuracy(model, dataset, device=None, loss_fn=None, batch_size=1):\n",
        "    dataloader = DataLoader(dataset, batch_size=batch_size, shuffle=True)\n",
        "    loss = 0.0\n",
        "    total = 0\n",
        "    correct = 0\n",
        "    with torch.no_grad():\n",
        "        for data in dataloader:\n",
        "            inputs = data['inputs'].to(device)\n",
        "            labels = data['labels'].to(device)\n",
        "            outputs = model(inputs)\n",
        "            if loss_fn!=None:\n",
        "                loss += loss_fn(outputs, labels).item()\n",
        "            \n",
        "            pred = torch.argmax(outputs, dim=-1)\n",
        "            total += len(inputs)\n",
        "            correct += (pred==labels).sum().item()\n",
        "    return loss/len(dataset), correct/total\n",
        "\n",
        "def train_model(dataset_train, dataset_valid, batch_size, model, loss_fn, optimizer, num_epochs, collate_fn=None, device=None):\n",
        "    model.to(device)\n",
        "\n",
        "    dataloader_train = DataLoader(dataset_train, batch_size=batch_size, shuffle=True, collate_fn=collate_fn)\n",
        "    dataloader_valid = DataLoader(dataset_valid, batch_size=batch_size, shuffle=False)\n",
        "\n",
        "    scheduler = optim.lr_scheduler.CosineAnnealingLR(optimizer, num_epochs, eta_min=1e-5)\n",
        "\n",
        "    log_train = []\n",
        "    log_valid = []\n",
        "    for epoch in range(num_epochs):\n",
        "        s_time = time.time()\n",
        "\n",
        "        model.train()\n",
        "        for data in dataloader_train:\n",
        "            optimizer.zero_grad()\n",
        "            inputs = data['inputs'].to(device)\n",
        "            labels = data['labels'].to(device)\n",
        "            outputs = model(inputs)\n",
        "            loss = loss_fn(outputs, labels)\n",
        "            loss.backward()\n",
        "            optimizer.step()\n",
        "        \n",
        "        model.eval()\n",
        "\n",
        "        loss_train, acc_train = calculate_loss_and_accuracy(model, dataset_train, device, loss_fn=loss_fn)\n",
        "        loss_valid, acc_valid = calculate_loss_and_accuracy(model, dataset_valid, device, loss_fn=loss_fn)\n",
        "        log_train.append([loss_train, acc_train])\n",
        "        log_valid.append([loss_valid, acc_valid])\n",
        "\n",
        "        torch.save({'epoch': epoch, 'model_state_dict': model.state_dict(), 'optimizer_state_dict': optimizer.state_dict()}, f'checkpoint{epoch + 1}.pt')\n",
        "\n",
        "        e_time = time.time()\n",
        "\n",
        "        print(f'epoch: {epoch + 1}, loss_train: {loss_train:.4f}, accuracy_train: {acc_train:.4f}, loss_valid: {loss_valid:.4f}, accuracy_valid: {acc_valid:.4f}, {(e_time - s_time):.4f}sec') \n",
        "\n",
        "        if epoch > 2 and log_valid[epoch - 3][0] <= log_valid[epoch - 2][0] <= log_valid[epoch - 1][0] <= log_valid[epoch][0]:\n",
        "            break\n",
        "\n",
        "        scheduler.step()\n",
        "\n",
        "    return {'train': log_train, 'valid': log_valid}"
      ],
      "metadata": {
        "id": "8Kui_mMc-xx5"
      },
      "execution_count": 13,
      "outputs": []
    },
    {
      "cell_type": "code",
      "source": [
        "import numpy as np\n",
        "from matplotlib import pyplot as plt\n",
        "%matplotlib inline\n",
        "\n",
        "def visualize_logs(log):\n",
        "  fig, ax = plt.subplots(1, 2, figsize=(15, 5))\n",
        "  ax[0].plot(np.array(log['train']).T[0], label='train', color='blue')\n",
        "  ax[0].plot(np.array(log['valid']).T[0], label='valid', color='red')\n",
        "  ax[0].set_xlabel('epoch')\n",
        "  ax[0].set_ylabel('loss')\n",
        "  ax[0].legend()\n",
        "  ax[1].plot(np.array(log['train']).T[1], label='train', color='blue')\n",
        "  ax[1].plot(np.array(log['valid']).T[1], label='valid', color='red')\n",
        "  ax[1].set_xlabel('epoch')\n",
        "  ax[1].set_ylabel('accuracy')\n",
        "  ax[1].legend()\n",
        "  plt.show()"
      ],
      "metadata": {
        "id": "1ocMrQ2iDAas"
      },
      "execution_count": 14,
      "outputs": []
    },
    {
      "cell_type": "code",
      "source": [
        "# batch_size=64だと動かない\n",
        "# batch_size周りのエラーがよくわかってない.\n",
        "# paddingしてないから系列長がバラバラになってエラーが出てる感じか？\n",
        "device = 'cuda' if torch.cuda.is_available() else 'cpu'\n",
        "LEARNING_RATE = 1e-3\n",
        "num_epochs = 10\n",
        "model = RNN(VOCAB_SIZE, EMB_SIZE, PADDING_IDX, OUTPUT_SIZE, HIDDEN_SIZE)\n",
        "loss_fn = nn.CrossEntropyLoss()\n",
        "optimizer = torch.optim.SGD(model.parameters(), lr=LEARNING_RATE)\n",
        "log = train_model(dataset_train, dataset_valid, 1, model, loss_fn, optimizer, num_epochs, device=device)"
      ],
      "metadata": {
        "colab": {
          "base_uri": "https://localhost:8080/"
        },
        "id": "TU9L94dYDPWH",
        "outputId": "5c69661d-aaa4-40ea-c318-7a6ac147a032"
      },
      "execution_count": 15,
      "outputs": [
        {
          "output_type": "stream",
          "name": "stdout",
          "text": [
            "epoch: 1, loss_train: 1.1112, accuracy_train: 0.5130, loss_valid: 1.1338, accuracy_valid: 0.4850, 22.9480sec\n",
            "epoch: 2, loss_train: 1.0456, accuracy_train: 0.5580, loss_valid: 1.0832, accuracy_valid: 0.5337, 21.1686sec\n",
            "epoch: 3, loss_train: 0.9437, accuracy_train: 0.6250, loss_valid: 1.0097, accuracy_valid: 0.5885, 21.0614sec\n",
            "epoch: 4, loss_train: 0.8115, accuracy_train: 0.7021, loss_valid: 0.9042, accuracy_valid: 0.6664, 21.2233sec\n",
            "epoch: 5, loss_train: 0.6947, accuracy_train: 0.7559, loss_valid: 0.8223, accuracy_valid: 0.7174, 21.2393sec\n",
            "epoch: 6, loss_train: 0.6217, accuracy_train: 0.7811, loss_valid: 0.7701, accuracy_valid: 0.7294, 21.1603sec\n",
            "epoch: 7, loss_train: 0.5635, accuracy_train: 0.8037, loss_valid: 0.7313, accuracy_valid: 0.7436, 21.4182sec\n",
            "epoch: 8, loss_train: 0.5270, accuracy_train: 0.8132, loss_valid: 0.7115, accuracy_valid: 0.7511, 21.2309sec\n",
            "epoch: 9, loss_train: 0.5096, accuracy_train: 0.8187, loss_valid: 0.6979, accuracy_valid: 0.7534, 21.1749sec\n",
            "epoch: 10, loss_train: 0.5043, accuracy_train: 0.8200, loss_valid: 0.6948, accuracy_valid: 0.7534, 21.2475sec\n"
          ]
        }
      ]
    },
    {
      "cell_type": "code",
      "source": [
        "visualize_logs(log)\n",
        "\n",
        "# 正解率の算出\n",
        "_, acc_train = calculate_loss_and_accuracy(model, dataset_train, device=device)\n",
        "_, acc_test = calculate_loss_and_accuracy(model, dataset_test, device=device)\n",
        "print(f'acc_train：{acc_train:.3f}')\n",
        "print(f'acc_test：{acc_test:.3f}')"
      ],
      "metadata": {
        "colab": {
          "base_uri": "https://localhost:8080/",
          "height": 364
        },
        "id": "Vz-Vg8zxFhvD",
        "outputId": "e74a2229-f152-4686-cf27-ea2a0e4cdca8"
      },
      "execution_count": 16,
      "outputs": [
        {
          "output_type": "display_data",
          "data": {
            "text/plain": [
              "<Figure size 1080x360 with 2 Axes>"
            ],
            "image/png": "[encoded data removed]"
          },
          "metadata": {
            "needs_background": "light"
          }
        },
        {
          "output_type": "stream",
          "name": "stdout",
          "text": [
            "acc_train：0.820\n",
            "acc_test：0.753\n"
          ]
        }
      ]
    },
    {
      "cell_type": "markdown",
      "metadata": {
        "id": "Gkh4lJs2sq6q"
      },
      "source": [
        "### 83. ミニバッチ化・GPU上での学習\n",
        "問題82のコードを改変し，B事例ごとに損失・勾配を計算して学習を行えるようにせよ（Bの値は適当に選べ）．また，GPU上で学習を実行せよ．"
      ]
    },
    {
      "cell_type": "markdown",
      "metadata": {
        "id": "NJAxB604sq6q"
      },
      "source": [
        "### 84. 単語ベクトルの導入\n",
        "事前学習済みの単語ベクトル（例えば，Google Newsデータセット（約1,000億単語）での[学習済み単語ベクトル](https://drive.google.com/file/d/0B7XkCwpI5KDYNlNUTTlSS21pQmM/edit?usp=sharing)）で単語埋め込みemb(x)を初期化し，学習せよ．"
      ]
    },
    {
      "cell_type": "markdown",
      "metadata": {
        "id": "swdfMcSXsq6r"
      },
      "source": [
        "### 85. 双方向RNN・多層化\n",
        "※問題文に数式が多く含まれているため、記述しない。<br>\n",
        "[問題文](https://nlp100.github.io/ja/ch09.html)"
      ]
    },
    {
      "cell_type": "markdown",
      "metadata": {
        "id": "xItJmheBsq6r"
      },
      "source": [
        "### 86. 畳み込みニューラルネットワーク (CNN)\n",
        "※問題文に数式が多く含まれているため、記述しない。<br>\n",
        "[問題文](https://nlp100.github.io/ja/ch09.html)"
      ]
    },
    {
      "cell_type": "markdown",
      "metadata": {
        "id": "NQbnnZFgsq6r"
      },
      "source": [
        "### 87. 確率的勾配降下法によるCNNの学習\n",
        "確率的勾配降下法（SGD: Stochastic Gradient Descent）を用いて，問題86で構築したモデルを学習せよ．訓練データ上の損失と正解率，評価データ上の損失と正解率を表示しながらモデルを学習し，適当な基準（例えば10エポックなど）で終了させよ．\n",
        "\n"
      ]
    },
    {
      "cell_type": "markdown",
      "metadata": {
        "id": "dy1jd_Masq6r"
      },
      "source": [
        "### 88. パラメータチューニング\n",
        "問題85や問題87のコードを改変し，ニューラルネットワークの形状やハイパーパラメータを調整しながら，高性能なカテゴリ分類器を構築せよ．\n",
        "\n"
      ]
    },
    {
      "cell_type": "markdown",
      "metadata": {
        "id": "w4Vmf_Whsq6s"
      },
      "source": [
        "### 89. 事前学習済み言語モデルからの転移学習\n",
        "事前学習済み言語モデル（例えば[BERT](https://github.com/google-research/bert)など）を出発点として，ニュース記事見出しをカテゴリに分類するモデルを構築せよ．"
      ]
    },
    {
      "cell_type": "code",
      "execution_count": null,
      "metadata": {
        "id": "sNjt6dXFsq6s"
      },
      "outputs": [],
      "source": []
    }
  ],
  "metadata": {
    "kernelspec": {
      "display_name": "Python 3",
      "language": "python",
      "name": "python3"
    },
    "language_info": {
      "name": "python",
      "version": "3.10.9 (main, Dec 15 2022, 17:11:09) [Clang 14.0.0 (clang-1400.0.29.202)]"
    },
    "orig_nbformat": 4,
    "vscode": {
      "interpreter": {
        "hash": "b0fa6594d8f4cbf19f97940f81e996739fb7646882a419484c72d19e05852a7e"
      }
    },
    "colab": {
      "provenance": [],
      "include_colab_link": true
    },
    "accelerator": "GPU",
    "gpuClass": "standard"
  },
  "nbformat": 4,
  "nbformat_minor": 0
}